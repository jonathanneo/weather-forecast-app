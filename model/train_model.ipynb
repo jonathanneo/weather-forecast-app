{
 "cells": [
  {
   "cell_type": "code",
   "execution_count": 44,
   "metadata": {},
   "outputs": [],
   "source": [
    "import pandas as pd \n",
    "from sqlalchemy import create_engine\n",
    "from sqlalchemy.engine import URL"
   ]
  },
  {
   "cell_type": "code",
   "execution_count": 45,
   "metadata": {},
   "outputs": [],
   "source": [
    "from config import DB_USER, DB_PASSWORD, DB_SERVER_NAME, DB_DATABASE_NAME\n",
    "connection_url = URL.create(\n",
    "    drivername = \"postgresql+pg8000\", \n",
    "    username = DB_USER,\n",
    "    password = DB_PASSWORD,\n",
    "    host = DB_SERVER_NAME, \n",
    "    port = 5432,\n",
    "    database = DB_DATABASE_NAME, \n",
    ")\n",
    "\n",
    "engine = create_engine(connection_url)"
   ]
  },
  {
   "cell_type": "code",
   "execution_count": 46,
   "metadata": {},
   "outputs": [],
   "source": [
    "atmosphere_df = pd.read_sql(\"atmosphere\", engine)\n",
    "city_df = pd.read_sql(\"city\", engine).rename(columns={\"name\": \"city_name\"})\n",
    "temperature_df = pd.read_sql(\"temperature\", engine)"
   ]
  },
  {
   "cell_type": "code",
   "execution_count": 47,
   "metadata": {},
   "outputs": [],
   "source": [
    "staging_df = pd.merge(atmosphere_df, temperature_df, on=[\"city_id\", \"datetime\"], how=\"inner\")\n",
    "staging_df[\"date\"] = staging_df[\"datetime\"].astype('datetime64').dt.date\n",
    "merged_df = pd.merge(staging_df, city_df, on=[\"city_id\"], how=\"inner\")\n",
    "merged_df[\"city_name\"] = merged_df[\"city_name\"].str.lower()"
   ]
  },
  {
   "cell_type": "code",
   "execution_count": 48,
   "metadata": {},
   "outputs": [
    {
     "data": {
      "text/html": [
       "<div>\n",
       "<style scoped>\n",
       "    .dataframe tbody tr th:only-of-type {\n",
       "        vertical-align: middle;\n",
       "    }\n",
       "\n",
       "    .dataframe tbody tr th {\n",
       "        vertical-align: top;\n",
       "    }\n",
       "\n",
       "    .dataframe thead th {\n",
       "        text-align: right;\n",
       "    }\n",
       "</style>\n",
       "<table border=\"1\" class=\"dataframe\">\n",
       "  <thead>\n",
       "    <tr style=\"text-align: right;\">\n",
       "      <th></th>\n",
       "      <th>city_id</th>\n",
       "      <th>datetime</th>\n",
       "      <th>main_pressure</th>\n",
       "      <th>main_humidity</th>\n",
       "      <th>main_temp</th>\n",
       "      <th>main_feels_like</th>\n",
       "      <th>main_temp_min</th>\n",
       "      <th>main_temp_max</th>\n",
       "      <th>date</th>\n",
       "      <th>city_name</th>\n",
       "      <th>coord_lon</th>\n",
       "      <th>coord_lat</th>\n",
       "    </tr>\n",
       "  </thead>\n",
       "  <tbody>\n",
       "    <tr>\n",
       "      <th>0</th>\n",
       "      <td>2172517</td>\n",
       "      <td>2021-12-01 14:03:41</td>\n",
       "      <td>1016.0</td>\n",
       "      <td>81.0</td>\n",
       "      <td>288.45</td>\n",
       "      <td>288.15</td>\n",
       "      <td>287.14</td>\n",
       "      <td>289.68</td>\n",
       "      <td>2021-12-01</td>\n",
       "      <td>canberra</td>\n",
       "      <td>149.1281</td>\n",
       "      <td>-35.2835</td>\n",
       "    </tr>\n",
       "    <tr>\n",
       "      <th>1</th>\n",
       "      <td>2172517</td>\n",
       "      <td>2021-12-01 14:26:29</td>\n",
       "      <td>1016.0</td>\n",
       "      <td>82.0</td>\n",
       "      <td>288.15</td>\n",
       "      <td>287.85</td>\n",
       "      <td>287.07</td>\n",
       "      <td>289.12</td>\n",
       "      <td>2021-12-01</td>\n",
       "      <td>canberra</td>\n",
       "      <td>149.1281</td>\n",
       "      <td>-35.2835</td>\n",
       "    </tr>\n",
       "    <tr>\n",
       "      <th>2</th>\n",
       "      <td>2172517</td>\n",
       "      <td>2021-12-01 14:50:19</td>\n",
       "      <td>1016.0</td>\n",
       "      <td>82.0</td>\n",
       "      <td>288.08</td>\n",
       "      <td>287.77</td>\n",
       "      <td>286.51</td>\n",
       "      <td>289.12</td>\n",
       "      <td>2021-12-01</td>\n",
       "      <td>canberra</td>\n",
       "      <td>149.1281</td>\n",
       "      <td>-35.2835</td>\n",
       "    </tr>\n",
       "    <tr>\n",
       "      <th>3</th>\n",
       "      <td>2172517</td>\n",
       "      <td>2021-12-01 16:18:30</td>\n",
       "      <td>1016.0</td>\n",
       "      <td>87.0</td>\n",
       "      <td>13.53</td>\n",
       "      <td>13.21</td>\n",
       "      <td>11.99</td>\n",
       "      <td>14.86</td>\n",
       "      <td>2021-12-01</td>\n",
       "      <td>canberra</td>\n",
       "      <td>149.1281</td>\n",
       "      <td>-35.2835</td>\n",
       "    </tr>\n",
       "    <tr>\n",
       "      <th>4</th>\n",
       "      <td>2172517</td>\n",
       "      <td>2021-12-01 15:53:32</td>\n",
       "      <td>1016.0</td>\n",
       "      <td>86.0</td>\n",
       "      <td>287.10</td>\n",
       "      <td>286.80</td>\n",
       "      <td>285.96</td>\n",
       "      <td>288.56</td>\n",
       "      <td>2021-12-01</td>\n",
       "      <td>canberra</td>\n",
       "      <td>149.1281</td>\n",
       "      <td>-35.2835</td>\n",
       "    </tr>\n",
       "  </tbody>\n",
       "</table>\n",
       "</div>"
      ],
      "text/plain": [
       "   city_id             datetime  main_pressure  main_humidity  main_temp  \\\n",
       "0  2172517  2021-12-01 14:03:41         1016.0           81.0     288.45   \n",
       "1  2172517  2021-12-01 14:26:29         1016.0           82.0     288.15   \n",
       "2  2172517  2021-12-01 14:50:19         1016.0           82.0     288.08   \n",
       "3  2172517  2021-12-01 16:18:30         1016.0           87.0      13.53   \n",
       "4  2172517  2021-12-01 15:53:32         1016.0           86.0     287.10   \n",
       "\n",
       "   main_feels_like  main_temp_min  main_temp_max        date city_name  \\\n",
       "0           288.15         287.14         289.68  2021-12-01  canberra   \n",
       "1           287.85         287.07         289.12  2021-12-01  canberra   \n",
       "2           287.77         286.51         289.12  2021-12-01  canberra   \n",
       "3            13.21          11.99          14.86  2021-12-01  canberra   \n",
       "4           286.80         285.96         288.56  2021-12-01  canberra   \n",
       "\n",
       "  coord_lon coord_lat  \n",
       "0  149.1281  -35.2835  \n",
       "1  149.1281  -35.2835  \n",
       "2  149.1281  -35.2835  \n",
       "3  149.1281  -35.2835  \n",
       "4  149.1281  -35.2835  "
      ]
     },
     "execution_count": 48,
     "metadata": {},
     "output_type": "execute_result"
    }
   ],
   "source": [
    "merged_df.head()"
   ]
  },
  {
   "cell_type": "code",
   "execution_count": 49,
   "metadata": {},
   "outputs": [
    {
     "data": {
      "text/html": [
       "<div>\n",
       "<style scoped>\n",
       "    .dataframe tbody tr th:only-of-type {\n",
       "        vertical-align: middle;\n",
       "    }\n",
       "\n",
       "    .dataframe tbody tr th {\n",
       "        vertical-align: top;\n",
       "    }\n",
       "\n",
       "    .dataframe thead th {\n",
       "        text-align: right;\n",
       "    }\n",
       "</style>\n",
       "<table border=\"1\" class=\"dataframe\">\n",
       "  <thead>\n",
       "    <tr style=\"text-align: right;\">\n",
       "      <th></th>\n",
       "      <th>city_name</th>\n",
       "      <th>date</th>\n",
       "      <th>main_pressure</th>\n",
       "      <th>main_humidity</th>\n",
       "      <th>main_temp</th>\n",
       "    </tr>\n",
       "  </thead>\n",
       "  <tbody>\n",
       "    <tr>\n",
       "      <th>1</th>\n",
       "      <td>adelaide</td>\n",
       "      <td>2021-12-02</td>\n",
       "      <td>1019.552632</td>\n",
       "      <td>69.736842</td>\n",
       "      <td>14.189211</td>\n",
       "    </tr>\n",
       "    <tr>\n",
       "      <th>2</th>\n",
       "      <td>adelaide</td>\n",
       "      <td>2021-12-03</td>\n",
       "      <td>1020.069444</td>\n",
       "      <td>59.291667</td>\n",
       "      <td>18.010000</td>\n",
       "    </tr>\n",
       "    <tr>\n",
       "      <th>3</th>\n",
       "      <td>adelaide</td>\n",
       "      <td>2021-12-04</td>\n",
       "      <td>1020.542169</td>\n",
       "      <td>54.831325</td>\n",
       "      <td>19.109277</td>\n",
       "    </tr>\n",
       "    <tr>\n",
       "      <th>4</th>\n",
       "      <td>adelaide</td>\n",
       "      <td>2021-12-05</td>\n",
       "      <td>1012.875000</td>\n",
       "      <td>55.000000</td>\n",
       "      <td>19.069375</td>\n",
       "    </tr>\n",
       "    <tr>\n",
       "      <th>5</th>\n",
       "      <td>adelaide</td>\n",
       "      <td>2021-12-06</td>\n",
       "      <td>1011.875000</td>\n",
       "      <td>53.227273</td>\n",
       "      <td>21.157045</td>\n",
       "    </tr>\n",
       "  </tbody>\n",
       "</table>\n",
       "</div>"
      ],
      "text/plain": [
       "  city_name        date  main_pressure  main_humidity  main_temp\n",
       "1  adelaide  2021-12-02    1019.552632      69.736842  14.189211\n",
       "2  adelaide  2021-12-03    1020.069444      59.291667  18.010000\n",
       "3  adelaide  2021-12-04    1020.542169      54.831325  19.109277\n",
       "4  adelaide  2021-12-05    1012.875000      55.000000  19.069375\n",
       "5  adelaide  2021-12-06    1011.875000      53.227273  21.157045"
      ]
     },
     "execution_count": 49,
     "metadata": {},
     "output_type": "execute_result"
    }
   ],
   "source": [
    "grouped_df = merged_df[[\n",
    "    \"main_pressure\", \n",
    "    \"main_humidity\", \n",
    "    \"city_name\",\n",
    "    \"date\",\n",
    "    \"main_temp\"\n",
    "]].groupby(by=[\"city_name\", \"date\"]).mean().reset_index()\n",
    "grouped_df = grouped_df[grouped_df[\"main_temp\"]<50] # remove temps that were recorded in farenheit \n",
    "grouped_df.head()"
   ]
  },
  {
   "cell_type": "code",
   "execution_count": 50,
   "metadata": {},
   "outputs": [],
   "source": [
    "clean_df = pd.get_dummies(grouped_df,columns=[\"city_name\"])"
   ]
  },
  {
   "cell_type": "code",
   "execution_count": 51,
   "metadata": {},
   "outputs": [],
   "source": [
    "X = clean_df[[\n",
    "    \"main_pressure\", \n",
    "    \"main_humidity\", \n",
    "    \"city_name_adelaide\", \n",
    "    \"city_name_brisbane\", \n",
    "    \"city_name_canberra\", \n",
    "    \"city_name_darwin\", \n",
    "    \"city_name_hobart\", \n",
    "    \"city_name_melbourne\", \n",
    "    \"city_name_perth\", \n",
    "    \"city_name_sydney\"\n",
    "]]\n",
    "\n",
    "y = clean_df[\"main_temp\"].values.reshape(-1,1)"
   ]
  },
  {
   "cell_type": "code",
   "execution_count": 52,
   "metadata": {},
   "outputs": [],
   "source": [
    "from sklearn.model_selection import train_test_split\n",
    "X_train, X_test, y_train, y_test = train_test_split(X, y, random_state=42)"
   ]
  },
  {
   "cell_type": "code",
   "execution_count": 53,
   "metadata": {},
   "outputs": [
    {
     "name": "stderr",
     "output_type": "stream",
     "text": [
      "/Users/jonathanneo/opt/anaconda3/envs/PythonData/lib/python3.7/site-packages/sklearn/utils/validation.py:1692: FutureWarning: Feature names only support names that are all strings. Got feature names with dtypes: ['quoted_name', 'str']. An error will be raised in 1.2.\n",
      "  FutureWarning,\n"
     ]
    }
   ],
   "source": [
    "from sklearn.preprocessing import StandardScaler\n",
    "X_scaler = StandardScaler().fit(X_train)\n",
    "y_scaler = StandardScaler().fit(y_train)"
   ]
  },
  {
   "cell_type": "code",
   "execution_count": 54,
   "metadata": {},
   "outputs": [
    {
     "name": "stderr",
     "output_type": "stream",
     "text": [
      "/Users/jonathanneo/opt/anaconda3/envs/PythonData/lib/python3.7/site-packages/sklearn/utils/validation.py:1692: FutureWarning: Feature names only support names that are all strings. Got feature names with dtypes: ['quoted_name', 'str']. An error will be raised in 1.2.\n",
      "  FutureWarning,\n",
      "/Users/jonathanneo/opt/anaconda3/envs/PythonData/lib/python3.7/site-packages/sklearn/utils/validation.py:1692: FutureWarning: Feature names only support names that are all strings. Got feature names with dtypes: ['quoted_name', 'str']. An error will be raised in 1.2.\n",
      "  FutureWarning,\n"
     ]
    }
   ],
   "source": [
    "# scale data\n",
    "X_train_scaled = X_scaler.transform(X_train)\n",
    "X_test_scaled = X_scaler.transform(X_test)\n",
    "y_train_scaled = y_scaler.transform(y_train)\n",
    "y_test_scaled = y_scaler.transform(y_test)"
   ]
  },
  {
   "cell_type": "code",
   "execution_count": 55,
   "metadata": {},
   "outputs": [
    {
     "data": {
      "text/plain": [
       "0.8802114045348468"
      ]
     },
     "execution_count": 55,
     "metadata": {},
     "output_type": "execute_result"
    }
   ],
   "source": [
    "# train the model \n",
    "from sklearn.linear_model import LinearRegression\n",
    "model = LinearRegression()\n",
    "model.fit(X_train_scaled, y_train_scaled)\n",
    "model.score(X_test_scaled, y_test_scaled)"
   ]
  },
  {
   "cell_type": "code",
   "execution_count": 56,
   "metadata": {},
   "outputs": [
    {
     "data": {
      "text/plain": [
       "OneHotEncoder()"
      ]
     },
     "execution_count": 56,
     "metadata": {},
     "output_type": "execute_result"
    }
   ],
   "source": [
    "# create a city encoder \n",
    "from sklearn.preprocessing import OneHotEncoder\n",
    "encoder = OneHotEncoder()\n",
    "encoder.fit(grouped_df[[\n",
    "    \"city_name\"\n",
    "]])"
   ]
  },
  {
   "cell_type": "code",
   "execution_count": 57,
   "metadata": {},
   "outputs": [],
   "source": [
    "# create a prediction function \n",
    "def predict(model, encoder, X_scaler, y_scaler, user_inputs):\n",
    "    # get the user input data \n",
    "    pressure = user_inputs[\"pressure\"]\n",
    "    humidity = user_inputs[\"humidity\"]\n",
    "    city_name = user_inputs[\"city_name\"]\n",
    "    \n",
    "    # store city names into a df \n",
    "    city_input_df = pd.DataFrame({\n",
    "        \"city_name\": [city_name]\n",
    "    })\n",
    "\n",
    "    # use encoder to transform the city df \n",
    "    X_transformed = encoder.transform(city_input_df)\n",
    "    city_df = pd.DataFrame(columns=[*encoder.categories_], data=X_transformed.toarray())\n",
    "    \n",
    "    # store pressure and humidty into df \n",
    "    input_df = pd.DataFrame({\n",
    "        \"pressure\": [pressure],\n",
    "        \"humidity\": [humidity]\n",
    "    })\n",
    "\n",
    "    # combine both df's using indexes \n",
    "    df = input_df.merge(city_df, left_index=True, right_index=True)\n",
    "\n",
    "    # scale the X input df \n",
    "    X_scaled = X_scaler.transform(df)\n",
    "\n",
    "    # obtain prediction (y) \n",
    "    prediction_scaled = model.predict(X_scaled)\n",
    "    \n",
    "    # scale prediction to human readable terms i.e. celcius \n",
    "    prediction = y_scaler.inverse_transform(prediction_scaled)\n",
    "    return prediction \n",
    "\n",
    "\n"
   ]
  },
  {
   "cell_type": "code",
   "execution_count": 58,
   "metadata": {},
   "outputs": [
    {
     "name": "stdout",
     "output_type": "stream",
     "text": [
      "predicted temp is: 24.7 celcius\n"
     ]
    },
    {
     "name": "stderr",
     "output_type": "stream",
     "text": [
      "/Users/jonathanneo/opt/anaconda3/envs/PythonData/lib/python3.7/site-packages/sklearn/utils/validation.py:1692: FutureWarning: Feature names only support names that are all strings. Got feature names with dtypes: ['str', 'tuple']. An error will be raised in 1.2.\n",
      "  FutureWarning,\n"
     ]
    }
   ],
   "source": [
    "# test a single prediction \n",
    "user_inputs = {\n",
    "    \"pressure\": 1011, \n",
    "    \"humidity\": 50,\n",
    "    \"city_name\": \"perth\"   \n",
    "}\n",
    "print(f\"predicted temp is: {predict(model, encoder, X_scaler, y_scaler, user_inputs)[0][0].round(2)} celcius\")"
   ]
  },
  {
   "cell_type": "code",
   "execution_count": 60,
   "metadata": {},
   "outputs": [
    {
     "data": {
      "text/plain": [
       "['../app/static/py/encoder.sav']"
      ]
     },
     "execution_count": 60,
     "metadata": {},
     "output_type": "execute_result"
    }
   ],
   "source": [
    "# save model \n",
    "import joblib \n",
    "joblib.dump(model, \"../app/static/py/model.sav\")\n",
    "joblib.dump(y_scaler, \"../app/static/py/y_scaler.sav\")\n",
    "joblib.dump(X_scaler, \"../app/static/py/x_scaler.sav\")\n",
    "joblib.dump(encoder, \"../app/static/py/encoder.sav\")"
   ]
  },
  {
   "cell_type": "code",
   "execution_count": null,
   "metadata": {},
   "outputs": [],
   "source": []
  }
 ],
 "metadata": {
  "interpreter": {
   "hash": "23a582b2fcb0d9f1a6df63352f294e1d6ca5ce9199f319a44fc346f4901363b4"
  },
  "kernelspec": {
   "display_name": "Python 3.7.11 ('PythonData')",
   "language": "python",
   "name": "python3"
  },
  "language_info": {
   "codemirror_mode": {
    "name": "ipython",
    "version": 3
   },
   "file_extension": ".py",
   "mimetype": "text/x-python",
   "name": "python",
   "nbconvert_exporter": "python",
   "pygments_lexer": "ipython3",
   "version": "3.7.11"
  },
  "orig_nbformat": 4
 },
 "nbformat": 4,
 "nbformat_minor": 2
}
